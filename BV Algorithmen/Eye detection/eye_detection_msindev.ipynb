{
 "cells": [
  {
   "cell_type": "code",
   "id": "initial_id",
   "metadata": {
    "collapsed": true,
    "ExecuteTime": {
     "end_time": "2024-04-27T13:50:31.318952Z",
     "start_time": "2024-04-27T13:46:58.768603Z"
    }
   },
   "source": [
    "'''This script uses OpenCV's haarcascade (face and eye cascade) to detect face\n",
    "and eyes in a given input image.'''\n",
    "\n",
    "#Import necessary libraries\n",
    "import cv2 as cv\n",
    "import numpy as np\n",
    "\n",
    "#Load face cascade and hair cascade from haarcascades folder\n",
    "face_cascade = cv.CascadeClassifier(cv.data.haarcascades + \"haarcascade_frontalface_default.xml\")\n",
    "eye_cascade = cv.CascadeClassifier(cv.data.haarcascades + \"haarcascade_eye.xml\")\n",
    "\n",
    "#Read image in img and convert it to grayscale and store in gray.\n",
    "#Image is converted to grayscale, as face cascade doesn't require to operate on coloured images.\n",
    "img = cv.imread('Utils/Maurice.jpg')\n",
    "img = cv.resize(img, (1000, 1000))\n",
    "gray = cv.cvtColor(img, cv.COLOR_BGR2GRAY)\n",
    "\n",
    "if face_cascade.empty():\n",
    "        print(\"Fehler beim Laden des Kaskadenklassifikators für die Gesichtserkennung.\")\n",
    "else:\n",
    "        print(\"Kaskadenklassifikator erfolgreich geladen.\")\n",
    "\n",
    "#Detect all faces in image.\n",
    "faces = face_cascade.detectMultiScale(gray, scaleFactor=1.1, minNeighbors=5, minSize=(30, 30))\n",
    "\n",
    "#Draw a rectangle over the face, and detect eyes in faces\n",
    "for (x,y,w,h) in faces:\n",
    "    cv.rectangle(img,(x,y),(x+w,y+h),(255,0,0),2)\n",
    "\n",
    "    #ROI is region of interest with area having face inside it.\n",
    "    roi_gray = gray[y:y+h, x:x+w]\n",
    "    roi_gray = cv.blur(roi_gray, (10, 10))\n",
    "    roi_color = img[y:y+h, x:x+w]\n",
    "\n",
    "    #Detect eyes in face\n",
    "    eyes = eye_cascade.detectMultiScale(roi_gray)\n",
    "\n",
    "    for (ex,ey,ew,eh) in eyes:\n",
    "        #cv.rectangle(roi_color,(ex,ey),(ex+ew,ey+eh),(0,255,0),2)\n",
    "        cv.circle(roi_color,(ex+ int(ew/2) , ey + int(eh/2) ),10,(0,0,255),1)\n",
    "\n",
    "\n",
    "\n",
    "\n",
    "roi_HSV = cv.cvtColor(roi_color, cv.COLOR_BGR2HSV)\n",
    "cv.imshow('HSV', roi_HSV)\n",
    "\n",
    "# define HSV color ranges for eyes colors\n",
    "class_name = (\"Blue\", \"Brown\", \"Green\")\n",
    "EyeColor = {\n",
    "    class_name[0] : ((180, 20, 50), (255, 100, 100)), \n",
    "    class_name[1] : ((2, 20, 20), (40, 60, 100)),    \n",
    "    class_name[2] : ((70, 40, 50), (165, 100, 100)),\n",
    "}\n",
    "def match_color(hsv_value):\n",
    "    for color_class, (lower, upper) in EyeColor.items():\n",
    "        if lower[0] <= hsv_value[0] <= upper[0] and lower[1] <= hsv_value[1] <= upper[1] and lower[2] <= hsv_value[2] <= upper[2]:\n",
    "            return color_class\n",
    "    return \"Other\"\n",
    "\n",
    "for(ex,ey,ew,eh) in eyes:\n",
    "    cv.circle(roi_color,(ex+ int(ew/2) , ey + int(eh/2) ),10,(0,0,255),1)\n",
    "    center = (ex+ int(ew/2) , ey + int(eh/2) )\n",
    "    radius = 10\n",
    "    mask_circle = np.zeros_like(roi_HSV[:, :, 0])\n",
    "    cv.circle(mask_circle, center, radius, 255, -1)\n",
    "    masked_image = cv.bitwise_and(roi_HSV, roi_HSV, mask=mask_circle)\n",
    "    cv.imshow(\"Maskiertes Bild\", masked_image)\n",
    "    mean_hsv = cv.mean(masked_image)\n",
    "    print(mean_hsv)\n",
    "    eye_color = match_color(mean_hsv[:3])\n",
    "    print(\"Erkannte Augenfarbe:\", eye_color)\n",
    "\n",
    "    \n",
    "cv.imshow('Image', img)\n",
    "cv.waitKey(0)\n",
    "cv.destroyAllWindows()"
   ],
   "outputs": [
    {
     "name": "stdout",
     "output_type": "stream",
     "text": [
      "Kaskadenklassifikator erfolgreich geladen.\n",
      "(0.23987727313446205, 0.2902893487413778, 0.3229120009555376, 0.0)\n",
      "Erkannte Augenfarbe: Other\n",
      "(0.24348293469497448, 0.19913255098689123, 0.23477858401266088, 0.0)\n",
      "Erkannte Augenfarbe: Other\n"
     ]
    }
   ],
   "execution_count": 27
  },
  {
   "metadata": {},
   "cell_type": "code",
   "outputs": [],
   "execution_count": null,
   "source": "",
   "id": "bfc4b418176df3b0"
  }
 ],
 "metadata": {
  "kernelspec": {
   "display_name": "Python 3",
   "language": "python",
   "name": "python3"
  },
  "language_info": {
   "codemirror_mode": {
    "name": "ipython",
    "version": 2
   },
   "file_extension": ".py",
   "mimetype": "text/x-python",
   "name": "python",
   "nbconvert_exporter": "python",
   "pygments_lexer": "ipython2",
   "version": "2.7.6"
  }
 },
 "nbformat": 4,
 "nbformat_minor": 5
}
