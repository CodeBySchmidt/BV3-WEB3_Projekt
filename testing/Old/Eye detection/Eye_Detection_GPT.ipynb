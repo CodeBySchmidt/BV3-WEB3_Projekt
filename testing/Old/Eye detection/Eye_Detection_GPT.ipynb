{
 "cells": [
  {
   "cell_type": "code",
   "id": "initial_id",
   "metadata": {
    "collapsed": true,
    "ExecuteTime": {
     "end_time": "2024-04-22T17:43:55.404168Z",
     "start_time": "2024-04-22T17:43:53.705076Z"
    }
   },
   "source": [
    "import cv2\n",
    "\n",
    "# Laden des trainierten Gesichtserkennungsmodells\n",
    "face_cascade = cv2.CascadeClassifier(cv2.data.haarcascades + 'haarcascade_frontalface_default.xml')\n",
    "\n",
    "# Laden des Bildes\n",
    "image = cv2.imread('Utils\\Rosy.jpg')\n",
    "\n",
    "# Konvertierung des Bildes in Graustufen\n",
    "gray_image = cv2.cvtColor(image, cv2.COLOR_BGR2GRAY)\n",
    "\n",
    "# Gesichtserkennung im Bild\n",
    "faces = face_cascade.detectMultiScale(gray_image, scaleFactor=1.1, minNeighbors=5, minSize=(30, 30))\n",
    "\n",
    "# Zeichnen eines Rechtecks um jedes erkannte Gesicht\n",
    "for (x, y, w, h) in faces:\n",
    "    cv2.rectangle(image, (x, y), (x+w, y+h), (255, 0, 0), 2)\n",
    "\n",
    "# Anzeigen des Ergebnisbildes\n",
    "cv2.imshow('Faces found', image)\n",
    "cv2.waitKey(0)\n",
    "cv2.destroyAllWindows()"
   ],
   "outputs": [],
   "execution_count": 26
  },
  {
   "metadata": {
    "ExecuteTime": {
     "end_time": "2024-04-22T17:47:04.142179Z",
     "start_time": "2024-04-22T17:46:57.027095Z"
    }
   },
   "cell_type": "code",
   "source": [
    "# Laden des trainierten Augenerkennungsmodells\n",
    "eye_cascade = cv2.CascadeClassifier(cv2.data.haarcascades + 'haarcascade_eye.xml')\n",
    "\n",
    "# Laden des Bildes\n",
    "image = cv2.imread('Utils\\Rosy.jpg')\n",
    "\n",
    "# Konvertierung des Bildes in Graustufen\n",
    "gray_image = cv2.cvtColor(image, cv2.COLOR_BGR2GRAY)\n",
    "\n",
    "# Augenerkennung im Bild\n",
    "eyes = eye_cascade.detectMultiScale(gray_image)\n",
    "\n",
    "# Zeichnen eines Rechtecks um jedes erkannte Auge\n",
    "for (x, y, w, h) in eyes:\n",
    "    cv2.rectangle(image, (x, y), (x+w, y+h), (0, 255, 0), 2)\n",
    "\n",
    "# Anzeigen des Ergebnisbildes\n",
    "cv2.imshow('Eyes found', image)\n",
    "cv2.waitKey(0)\n",
    "cv2.destroyAllWindows()"
   ],
   "id": "43481fa6db0b005e",
   "outputs": [],
   "execution_count": 36
  },
  {
   "metadata": {
    "ExecuteTime": {
     "end_time": "2024-04-22T17:46:40.597869Z",
     "start_time": "2024-04-22T17:46:40.585874Z"
    }
   },
   "cell_type": "code",
   "source": [
    "import numpy as np\n",
    "\n",
    "# Extrahiere die Augenregion (hier als Beispiel für das erste erkannte Auge)\n",
    "eye_x, eye_y, eye_w, eye_h = eyes[0]\n",
    "print(eyes[0])\n",
    "eye_region = image[eye_y:eye_y+eye_h, eye_x:eye_x+eye_w]\n",
    "# Berechne den durchschnittlichen Farbwert in der Augenregion\n",
    "average_color = np.mean(eye_region, axis=(0, 1))\n",
    "\n",
    "# Ausgabe des durchschnittlichen Farbwerts\n",
    "print(\"Durchschnittliche Farbe der Augen:\", average_color)"
   ],
   "id": "76449c798e74c915",
   "outputs": [
    {
     "name": "stdout",
     "output_type": "stream",
     "text": [
      "[429 444  52  52]\n",
      "Durchschnittliche Farbe der Augen: [148.07803254 190.51516272 148.07803254]\n"
     ]
    }
   ],
   "execution_count": 35
  },
  {
   "metadata": {
    "ExecuteTime": {
     "end_time": "2024-04-22T17:44:05.517527Z",
     "start_time": "2024-04-22T17:44:05.497581Z"
    }
   },
   "cell_type": "code",
   "source": [
    "import numpy as np\n",
    "\n",
    "def color_name(rgb):\n",
    "    # Liste von Farben und ihren RGB-Werten\n",
    "    colors = {\n",
    "        'schwarz': (0, 0, 0),\n",
    "        'weiß': (255, 255, 255),\n",
    "        'rot': (255, 0, 0),\n",
    "        'grün': (0, 255, 0),\n",
    "        'blau': (0, 0, 255),\n",
    "        # Füge weitere Farben bei Bedarf hinzu\n",
    "    }\n",
    "    \n",
    "    # Finde die nächstgelegene Farbe in der Liste\n",
    "    closest_color = min(colors, key=lambda color: np.linalg.norm(np.array(colors[color]) - np.array(rgb)))\n",
    "    return closest_color\n",
    "\n",
    "def color_example(rgb):\n",
    "    # Beispiel-Farbwerte für die Umwandlung\n",
    "    examples = {\n",
    "        'schwarz': (0, 0, 0),\n",
    "        'weiß': (255, 255, 255),\n",
    "        'rot': (255, 0, 0),\n",
    "        'grün': (0, 255, 0),\n",
    "        'blau': (0, 0, 255),\n",
    "        # Füge weitere Beispielwerte bei Bedarf hinzu\n",
    "    }\n",
    "    \n",
    "    # Finde die nächstgelegene Farbe in der Liste\n",
    "    closest_color = min(examples, key=lambda color: np.linalg.norm(np.array(examples[color]) - np.array(rgb)))\n",
    "    return closest_color\n",
    "\n",
    "# Beispiel-Augenfarbe\n",
    "eye_color = (120, 50, 200)  # Beispiel-RGB-Werte\n",
    "\n",
    "# Bestimme die Farbe entweder durch Namen oder Beispiel\n",
    "color_by_name = color_name(eye_color)\n",
    "color_by_example = color_example(eye_color)\n",
    "\n",
    "print(\"Augenfarbe (benannt):\", color_by_name)\n",
    "print(\"Augenfarbe (Beispiel):\", color_by_example)"
   ],
   "id": "6f645dbf1e812905",
   "outputs": [
    {
     "name": "stdout",
     "output_type": "stream",
     "text": [
      "Augenfarbe (benannt): blau\n",
      "Augenfarbe (Beispiel): blau\n"
     ]
    }
   ],
   "execution_count": 30
  },
  {
   "metadata": {},
   "cell_type": "code",
   "outputs": [],
   "execution_count": null,
   "source": "",
   "id": "e03583af45366fa4"
  }
 ],
 "metadata": {
  "kernelspec": {
   "display_name": "Python 3",
   "language": "python",
   "name": "python3"
  },
  "language_info": {
   "codemirror_mode": {
    "name": "ipython",
    "version": 2
   },
   "file_extension": ".py",
   "mimetype": "text/x-python",
   "name": "python",
   "nbconvert_exporter": "python",
   "pygments_lexer": "ipython2",
   "version": "2.7.6"
  }
 },
 "nbformat": 4,
 "nbformat_minor": 5
}
