{
 "cells": [
  {
   "cell_type": "code",
   "id": "initial_id",
   "metadata": {
    "collapsed": true,
    "ExecuteTime": {
     "end_time": "2024-06-22T18:12:45.627252Z",
     "start_time": "2024-06-22T18:12:44.689181Z"
    }
   },
   "source": [
    "import vmbpy\n",
    "import cv2\n",
    "import numpy as np\n",
    "from vmbpy import PixelFormat, Debayer\n",
    "\n",
    "\n",
    "class FrameHandler(vmbpy.FrameHandler):\n",
    "    def __init__(self):\n",
    "        super().__init__()\n",
    "\n",
    "    def __call__(self, cam, frame):\n",
    "        img = np.array(frame.buffer_data())\n",
    "        img = cv2.cvtColor(img, cv2.COLOR_BAYER_BG2BGR)\n",
    "        cv2.imshow('Camera Stream', img)\n",
    "        if cv2.waitKey(1) & 0xFF == ord('q'):\n",
    "            cam.stop_streaming()\n",
    "            cv2.destroyAllWindows()\n",
    "\n",
    "def main():\n",
    "    with vmbpy.VmbSystem.get_instance() as vmb:\n",
    "        cameras = vmb.get_all_cameras()\n",
    "        cam = None\n",
    "        for camera in cameras:\n",
    "            if camera.get_id() == '192.168.100.10':\n",
    "                cam = camera\n",
    "                break\n",
    "\n",
    "        if not cam:\n",
    "            print(\"Kamera mit der IP 192.168.100.10 nicht gefunden.\")\n",
    "            return\n",
    "\n",
    "        with cam:\n",
    "            frame_handler = FrameHandler()\n",
    "            cam.start_streaming(frame_handler)\n",
    "            try:\n",
    "                while True:\n",
    "                    if cv2.waitKey(1) & 0xFF == ord('q'):\n",
    "                        break\n",
    "            finally:\n",
    "                cam.stop_streaming()\n",
    "                cv2.destroyAllWindows()\n",
    "\n",
    "if __name__ == '__main__':\n",
    "    main()"
   ],
   "outputs": [
    {
     "name": "stdout",
     "output_type": "stream",
     "text": [
      "Kamera mit der IP 192.168.100.10 nicht gefunden.\n"
     ]
    }
   ],
   "execution_count": 3
  },
  {
   "metadata": {
    "ExecuteTime": {
     "end_time": "2024-06-22T19:36:00.868576Z",
     "start_time": "2024-06-22T19:35:58.985934Z"
    }
   },
   "cell_type": "code",
   "source": [
    "import vmbpy\n",
    "import cv2\n",
    "import numpy as np\n",
    "\n",
    "# Globale Variable für das Fenster\n",
    "window_name = \"Kamerastream\"\n",
    "\n",
    "# Handler für die Frame-Daten\n",
    "def frame_handler(cam, stream, frame):\n",
    "    try:\n",
    "        # Zugriff auf die Frame-Daten\n",
    "        img = np.array(frame.buffer_data())\n",
    "        # Konvertieren des Bildes zu einem OpenCV-freundlichen Format\n",
    "        img = cv2.cvtColor(img, cv2.COLOR_BAYER_BG2BGR)\n",
    "        # Anzeigen des Bildes im Fenster\n",
    "        cv2.imshow(window_name, img)\n",
    "    except Exception as e:\n",
    "        print(f\"Fehler beim Verarbeiten des Frames: {e}\")\n",
    "\n",
    "def main():\n",
    "    print(\"Initialisiere Vimba System...\")\n",
    "    with (vmbpy.VmbSystem.get_instance() as vmb):\n",
    "        print(\"Suche nach Kameras...\")\n",
    "        cameras = vmb.get_all_cameras()\n",
    "        \n",
    "        if not cameras:\n",
    "            print(\"Keine Kameras gefunden.\")\n",
    "            return\n",
    "        \n",
    "        # Auflisten der gefundenen Kameras\n",
    "        print(\"Gefundene Kameras:\")\n",
    "        for camera in cameras:\n",
    "            print(f\"Kamera ID: {camera.get_id()}\")\n",
    "\n",
    "        # Verwenden der ersten gefundenen Kamera\n",
    "        cam = cameras[0]\n",
    "        print(f\"Verwende Kamera: {cam.get_id()}\")\n",
    "\n",
    "        with cam:\n",
    "            print(\"Starte Streaming...\")\n",
    "            # Erstellen des Fensters für den Kamerastream\n",
    "            cv2.namedWindow(window_name, cv2.WINDOW_NORMAL)\n",
    "        \n",
    "            \n",
    "            # Starten des Streamings\n",
    "            frame = cam.get_frame()\n",
    "            print(frame.get_pixel_format())\n",
    "            \n",
    "           # frame.convert_pixel_format(vmbpy.PixelFormat.Bgr12)\n",
    "            \n",
    "            vmbpy.Frame.as_opencv_image(frame)\n",
    "          \n",
    "            \n",
    "            cv2.imshow('Cam', frame)\n",
    "            #print(cam.get_frame(2000))\n",
    "            \n",
    "            \n",
    "            \n",
    "            \n",
    "           #cam.start_streaming(frame_handler)          #  try:\n",
    "                # Halten des Streams bis zum Tastendruck (q)\n",
    "          #      while True:\n",
    "          #          if cv2.waitKey(1) & 0xFF == ord('q'):\n",
    "           #            print(\"Beende Programm...\")\n",
    "            #            break\n",
    "           # finally:\n",
    "            #    cam.stop_streaming()\n",
    "             #   cv2.destroyAllWindows()\n",
    "             #   print(\"Streaming gestoppt.\")\n",
    "\n",
    "if __name__ == '__main__':\n",
    "    main()"
   ],
   "id": "25ccca3e352c8727",
   "outputs": [
    {
     "name": "stdout",
     "output_type": "stream",
     "text": [
      "Initialisiere Vimba System...\n",
      "Suche nach Kameras...\n",
      "Gefundene Kameras:\n",
      "Kamera ID: DEV_000F31026567\n",
      "Verwende Kamera: DEV_000F31026567\n",
      "Starte Streaming...\n",
      "BayerGB8\n"
     ]
    },
    {
     "ename": "ValueError",
     "evalue": "Current Format 'BayerGB8' is not in OPENCV_PIXEL_FORMATS",
     "output_type": "error",
     "traceback": [
      "\u001B[1;31m---------------------------------------------------------------------------\u001B[0m",
      "\u001B[1;31mValueError\u001B[0m                                Traceback (most recent call last)",
      "Cell \u001B[1;32mIn[22], line 72\u001B[0m\n\u001B[0;32m     55\u001B[0m             \u001B[38;5;66;03m#print(cam.get_frame(2000))\u001B[39;00m\n\u001B[0;32m     56\u001B[0m             \n\u001B[0;32m     57\u001B[0m             \n\u001B[1;32m   (...)\u001B[0m\n\u001B[0;32m     68\u001B[0m              \u001B[38;5;66;03m#   cv2.destroyAllWindows()\u001B[39;00m\n\u001B[0;32m     69\u001B[0m              \u001B[38;5;66;03m#   print(\"Streaming gestoppt.\")\u001B[39;00m\n\u001B[0;32m     71\u001B[0m \u001B[38;5;28;01mif\u001B[39;00m \u001B[38;5;18m__name__\u001B[39m \u001B[38;5;241m==\u001B[39m \u001B[38;5;124m'\u001B[39m\u001B[38;5;124m__main__\u001B[39m\u001B[38;5;124m'\u001B[39m:\n\u001B[1;32m---> 72\u001B[0m     \u001B[43mmain\u001B[49m\u001B[43m(\u001B[49m\u001B[43m)\u001B[49m\n",
      "Cell \u001B[1;32mIn[22], line 51\u001B[0m, in \u001B[0;36mmain\u001B[1;34m()\u001B[0m\n\u001B[0;32m     47\u001B[0m  \u001B[38;5;28mprint\u001B[39m(frame\u001B[38;5;241m.\u001B[39mget_pixel_format())\n\u001B[0;32m     49\u001B[0m \u001B[38;5;66;03m# frame.convert_pixel_format(vmbpy.PixelFormat.Bgr12)\u001B[39;00m\n\u001B[1;32m---> 51\u001B[0m  \u001B[43mvmbpy\u001B[49m\u001B[38;5;241;43m.\u001B[39;49m\u001B[43mFrame\u001B[49m\u001B[38;5;241;43m.\u001B[39;49m\u001B[43mas_opencv_image\u001B[49m\u001B[43m(\u001B[49m\u001B[43mframe\u001B[49m\u001B[43m)\u001B[49m\n\u001B[0;32m     54\u001B[0m  cv2\u001B[38;5;241m.\u001B[39mimshow(\u001B[38;5;124m'\u001B[39m\u001B[38;5;124mCam\u001B[39m\u001B[38;5;124m'\u001B[39m, frame)\n",
      "File \u001B[1;32m~\\AppData\\Local\\Programs\\Python\\Python39\\lib\\site-packages\\vmbpy\\frame.py:681\u001B[0m, in \u001B[0;36mFrame.as_opencv_image\u001B[1;34m(self)\u001B[0m\n\u001B[0;32m    678\u001B[0m fmt \u001B[38;5;241m=\u001B[39m \u001B[38;5;28mself\u001B[39m\u001B[38;5;241m.\u001B[39m_frame\u001B[38;5;241m.\u001B[39mpixelFormat\n\u001B[0;32m    680\u001B[0m \u001B[38;5;28;01mif\u001B[39;00m fmt \u001B[38;5;129;01mnot\u001B[39;00m \u001B[38;5;129;01min\u001B[39;00m OPENCV_PIXEL_FORMATS:\n\u001B[1;32m--> 681\u001B[0m     \u001B[38;5;28;01mraise\u001B[39;00m \u001B[38;5;167;01mValueError\u001B[39;00m(\u001B[38;5;124m'\u001B[39m\u001B[38;5;124mCurrent Format \u001B[39m\u001B[38;5;130;01m\\'\u001B[39;00m\u001B[38;5;132;01m{}\u001B[39;00m\u001B[38;5;130;01m\\'\u001B[39;00m\u001B[38;5;124m is not in OPENCV_PIXEL_FORMATS\u001B[39m\u001B[38;5;124m'\u001B[39m\u001B[38;5;241m.\u001B[39mformat(\n\u001B[0;32m    682\u001B[0m                      \u001B[38;5;28mstr\u001B[39m(PixelFormat(\u001B[38;5;28mself\u001B[39m\u001B[38;5;241m.\u001B[39m_frame\u001B[38;5;241m.\u001B[39mpixelFormat))))\n\u001B[0;32m    684\u001B[0m \u001B[38;5;28;01mreturn\u001B[39;00m \u001B[38;5;28mself\u001B[39m\u001B[38;5;241m.\u001B[39mas_numpy_ndarray()\n",
      "\u001B[1;31mValueError\u001B[0m: Current Format 'BayerGB8' is not in OPENCV_PIXEL_FORMATS"
     ]
    }
   ],
   "execution_count": 22
  }
 ],
 "metadata": {
  "kernelspec": {
   "display_name": "Python 3",
   "language": "python",
   "name": "python3"
  },
  "language_info": {
   "codemirror_mode": {
    "name": "ipython",
    "version": 2
   },
   "file_extension": ".py",
   "mimetype": "text/x-python",
   "name": "python",
   "nbconvert_exporter": "python",
   "pygments_lexer": "ipython2",
   "version": "2.7.6"
  }
 },
 "nbformat": 4,
 "nbformat_minor": 5
}
