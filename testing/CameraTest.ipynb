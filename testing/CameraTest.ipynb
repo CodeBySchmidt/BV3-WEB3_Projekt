{
 "cells": [
  {
   "cell_type": "code",
   "id": "initial_id",
   "metadata": {
    "collapsed": true,
    "ExecuteTime": {
     "end_time": "2024-06-22T18:12:45.627252Z",
     "start_time": "2024-06-22T18:12:44.689181Z"
    }
   },
   "source": [
    "import vmbpy\n",
    "import cv2\n",
    "import numpy as np\n",
    "from vmbpy import PixelFormat, Debayer\n",
    "\n",
    "\n",
    "class FrameHandler(vmbpy.FrameHandler):\n",
    "    def __init__(self):\n",
    "        super().__init__()\n",
    "\n",
    "    def __call__(self, cam, frame):\n",
    "        img = np.array(frame.buffer_data())\n",
    "        img = cv2.cvtColor(img, cv2.COLOR_BAYER_BG2BGR)\n",
    "        cv2.imshow('Camera Stream', img)\n",
    "        if cv2.waitKey(1) & 0xFF == ord('q'):\n",
    "            cam.stop_streaming()\n",
    "            cv2.destroyAllWindows()\n",
    "\n",
    "def main():\n",
    "    with vmbpy.VmbSystem.get_instance() as vmb:\n",
    "        cameras = vmb.get_all_cameras()\n",
    "        cam = None\n",
    "        for camera in cameras:\n",
    "            if camera.get_id() == '192.168.100.10':\n",
    "                cam = camera\n",
    "                break\n",
    "\n",
    "        if not cam:\n",
    "            print(\"Kamera mit der IP 192.168.100.10 nicht gefunden.\")\n",
    "            return\n",
    "\n",
    "        with cam:\n",
    "            frame_handler = FrameHandler()\n",
    "            cam.start_streaming(frame_handler)\n",
    "            try:\n",
    "                while True:\n",
    "                    if cv2.waitKey(1) & 0xFF == ord('q'):\n",
    "                        break\n",
    "            finally:\n",
    "                cam.stop_streaming()\n",
    "                cv2.destroyAllWindows()\n",
    "\n",
    "if __name__ == '__main__':\n",
    "    main()"
   ],
   "outputs": [
    {
     "name": "stdout",
     "output_type": "stream",
     "text": [
      "Kamera mit der IP 192.168.100.10 nicht gefunden.\n"
     ]
    }
   ],
   "execution_count": 3
  },
  {
   "metadata": {
    "jupyter": {
     "is_executing": true
    }
   },
   "cell_type": "code",
   "source": [
    "import vmbpy\n",
    "import cv2\n",
    "import numpy as np\n",
    "\n",
    "# Globale Variable für das Fenster\n",
    "window_name = \"Kamerastream\"\n",
    "\n",
    "# Handler für die Frame-Daten\n",
    "def frame_handler(cam, stream, frame):\n",
    "    try:\n",
    "        # Zugriff auf die Frame-Daten\n",
    "        img = np.array(frame.buffer_data())\n",
    "        # Konvertieren des Bildes zu einem OpenCV-freundlichen Format\n",
    "        img = cv2.cvtColor(img, cv2.COLOR_BAYER_BG2BGR)\n",
    "        # Anzeigen des Bildes im Fenster\n",
    "        cv2.imshow(window_name, img)\n",
    "    except Exception as e:\n",
    "        print(f\"Fehler beim Verarbeiten des Frames: {e}\")\n",
    "\n",
    "def main():\n",
    "    print(\"Initialisiere Vimba System...\")\n",
    "    with (vmbpy.VmbSystem.get_instance() as vmb):\n",
    "        print(\"Suche nach Kameras...\")\n",
    "        cameras = vmb.get_all_cameras()\n",
    "        \n",
    "        if not cameras:\n",
    "            print(\"Keine Kameras gefunden.\")\n",
    "            return\n",
    "        \n",
    "        # Auflisten der gefundenen Kameras\n",
    "        print(\"Gefundene Kameras:\")\n",
    "        for camera in cameras:\n",
    "            print(f\"Kamera ID: {camera.get_id()}\")\n",
    "\n",
    "        # Verwenden der ersten gefundenen Kamera\n",
    "        cam = cameras[0]\n",
    "        print(f\"Verwende Kamera: {cam.get_id()}\")\n",
    "\n",
    "        with cam:\n",
    "            print(\"Starte Streaming...\")\n",
    "            # Erstellen des Fensters für den Kamerastream\n",
    "            cv2.namedWindow(window_name, cv2.WINDOW_NORMAL)\n",
    "        \n",
    "            \n",
    "            # Starten des Streamings\n",
    "            frame = cam.get_frame()\n",
    "            print(frame.get_pixel_format())\n",
    "            \n",
    "           # frame.convert_pixel_format(vmbpy.PixelFormat.Bgr12)\n",
    "            \n",
    "            #vmbpy.Frame.as_opencv_image(frame)\n",
    "          from vimba import *\n",
    "\n",
    "        with Vimba.get_instance () as vimba:\n",
    "            cams = vimba.get_all_cameras ()\n",
    "        with cams [0] as cam:\n",
    "\n",
    "        # Get pixel formats available in the camera\n",
    "        fmts = cam.get_pixel_formats ()\n",
    "\n",
    "     # In this case , we want a format that supports colors\n",
    "        fmts = intersect_pixel_formats(fmts , COLOR_PIXEL_FORMATS)\n",
    "\n",
    "    # In this case , we want a format that is compatible with OpenCV\n",
    "        fmts = intersect_pixel_formats(fmts , OPENCV_PIXEL_FORMATS)\n",
    "\n",
    "        if fmts:\n",
    "            cam.set_pixel_format(fmts [0])\n",
    "\n",
    "         else:\n",
    "            print('Abort. No valid pixel format found.')\n",
    "            \n",
    "    cv2.imshow('Cam', frame)\n",
    "            #print(cam.get_frame(2000))\n",
    "            \n",
    "            \n",
    "            \n",
    "            \n",
    "           #cam.start_streaming(frame_handler)          #  try:\n",
    "                # Halten des Streams bis zum Tastendruck (q)\n",
    "          #      while True:\n",
    "          #          if cv2.waitKey(1) & 0xFF == ord('q'):\n",
    "           #            print(\"Beende Programm...\")\n",
    "            #            break\n",
    "           # finally:\n",
    "            #    cam.stop_streaming()\n",
    "             #   cv2.destroyAllWindows()\n",
    "             #   print(\"Streaming gestoppt.\")\n",
    "\n",
    "if __name__ == '__main__':\n",
    "    main()"
   ],
   "id": "25ccca3e352c8727",
   "outputs": [],
   "execution_count": null
  },
  {
   "metadata": {
    "jupyter": {
     "is_executing": true
    }
   },
   "cell_type": "code",
   "source": [
    "import cv2\n",
    "from vimba import *\n",
    "\n",
    "with Vimba.get_instance () as vimba:\n",
    "    cams = vimba.get_all_cameras ()\n",
    "    with cams [0] as cam:\n",
    "        frame = cam.get_frame ()\n",
    "        frame.convert_pixel_format(PixelFormat.Mono8)\n",
    "        cv2.imwrite('frame.jpg', frame.as_opencv_image ())"
   ],
   "id": "6cdfe1449227182c",
   "outputs": [],
   "execution_count": null
  }
 ],
 "metadata": {
  "kernelspec": {
   "display_name": "Python 3",
   "language": "python",
   "name": "python3"
  },
  "language_info": {
   "codemirror_mode": {
    "name": "ipython",
    "version": 2
   },
   "file_extension": ".py",
   "mimetype": "text/x-python",
   "name": "python",
   "nbconvert_exporter": "python",
   "pygments_lexer": "ipython2",
   "version": "2.7.6"
  }
 },
 "nbformat": 4,
 "nbformat_minor": 5
}
